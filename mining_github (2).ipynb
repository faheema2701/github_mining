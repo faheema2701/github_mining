{
  "nbformat": 4,
  "nbformat_minor": 0,
  "metadata": {
    "colab": {
      "provenance": []
    },
    "kernelspec": {
      "name": "python3",
      "display_name": "Python 3"
    },
    "language_info": {
      "name": "python"
    }
  },
  "cells": [
    {
      "cell_type": "code",
      "execution_count": null,
      "metadata": {
        "colab": {
          "base_uri": "https://localhost:8080/"
        },
        "id": "_2VUo5VgIDcr",
        "outputId": "cbcfd76f-7939-408b-9e49-55b7c2f75d2c"
      },
      "outputs": [
        {
          "output_type": "stream",
          "name": "stdout",
          "text": [
            "Collecting PyGithub\n",
            "  Downloading PyGithub-2.6.1-py3-none-any.whl.metadata (3.9 kB)\n",
            "Collecting pynacl>=1.4.0 (from PyGithub)\n",
            "  Downloading PyNaCl-1.5.0-cp36-abi3-manylinux_2_17_x86_64.manylinux2014_x86_64.manylinux_2_24_x86_64.whl.metadata (8.6 kB)\n",
            "Requirement already satisfied: requests>=2.14.0 in /usr/local/lib/python3.11/dist-packages (from PyGithub) (2.32.3)\n",
            "Requirement already satisfied: pyjwt>=2.4.0 in /usr/local/lib/python3.11/dist-packages (from pyjwt[crypto]>=2.4.0->PyGithub) (2.10.1)\n",
            "Requirement already satisfied: typing-extensions>=4.0.0 in /usr/local/lib/python3.11/dist-packages (from PyGithub) (4.13.2)\n",
            "Requirement already satisfied: urllib3>=1.26.0 in /usr/local/lib/python3.11/dist-packages (from PyGithub) (2.3.0)\n",
            "Requirement already satisfied: Deprecated in /usr/local/lib/python3.11/dist-packages (from PyGithub) (1.2.18)\n",
            "Requirement already satisfied: cryptography>=3.4.0 in /usr/local/lib/python3.11/dist-packages (from pyjwt[crypto]>=2.4.0->PyGithub) (43.0.3)\n",
            "Requirement already satisfied: cffi>=1.4.1 in /usr/local/lib/python3.11/dist-packages (from pynacl>=1.4.0->PyGithub) (1.17.1)\n",
            "Requirement already satisfied: charset-normalizer<4,>=2 in /usr/local/lib/python3.11/dist-packages (from requests>=2.14.0->PyGithub) (3.4.1)\n",
            "Requirement already satisfied: idna<4,>=2.5 in /usr/local/lib/python3.11/dist-packages (from requests>=2.14.0->PyGithub) (3.10)\n",
            "Requirement already satisfied: certifi>=2017.4.17 in /usr/local/lib/python3.11/dist-packages (from requests>=2.14.0->PyGithub) (2025.1.31)\n",
            "Requirement already satisfied: wrapt<2,>=1.10 in /usr/local/lib/python3.11/dist-packages (from Deprecated->PyGithub) (1.17.2)\n",
            "Requirement already satisfied: pycparser in /usr/local/lib/python3.11/dist-packages (from cffi>=1.4.1->pynacl>=1.4.0->PyGithub) (2.22)\n",
            "Downloading PyGithub-2.6.1-py3-none-any.whl (410 kB)\n",
            "\u001b[2K   \u001b[90m━━━━━━━━━━━━━━━━━━━━━━━━━━━━━━━━━━━━━━━━\u001b[0m \u001b[32m410.5/410.5 kB\u001b[0m \u001b[31m5.1 MB/s\u001b[0m eta \u001b[36m0:00:00\u001b[0m\n",
            "\u001b[?25hDownloading PyNaCl-1.5.0-cp36-abi3-manylinux_2_17_x86_64.manylinux2014_x86_64.manylinux_2_24_x86_64.whl (856 kB)\n",
            "\u001b[2K   \u001b[90m━━━━━━━━━━━━━━━━━━━━━━━━━━━━━━━━━━━━━━━━\u001b[0m \u001b[32m856.7/856.7 kB\u001b[0m \u001b[31m20.2 MB/s\u001b[0m eta \u001b[36m0:00:00\u001b[0m\n",
            "\u001b[?25hInstalling collected packages: pynacl, PyGithub\n",
            "Successfully installed PyGithub-2.6.1 pynacl-1.5.0\n"
          ]
        }
      ],
      "source": [
        "pip install PyGithub\n"
      ]
    },
    {
      "cell_type": "code",
      "source": [
        "from github import Github\n",
        "\n",
        "# Authenticate\n",
        "g = Github(\"<your personal access token>\")  #generate personal access token in GitHub\n",
        "\n",
        "# Get a specific repository\n",
        "repo = g.get_repo(\"faheema2701/web-scraping\") #mining this github id\n",
        "\n",
        "# Print repository information\n",
        "print(f\"Repository name: {repo.name}\")\n",
        "print(f\"Description: {repo.description}\")\n",
        "print(f\"Stars: {repo.stargazers_count}\")\n",
        "\n",
        "# Print contributors\n",
        "for contributor in repo.get_contributors():\n",
        "    print(f\"{contributor.login} ({contributor.contributions} contributions)\")\n"
      ],
      "metadata": {
        "colab": {
          "base_uri": "https://localhost:8080/"
        },
        "id": "kF2B-aJKK5Zt",
        "outputId": "fbc1b5b1-0bcc-4e85-9a1a-a633ecfe0aef"
      },
      "execution_count": null,
      "outputs": [
        {
          "output_type": "stream",
          "name": "stdout",
          "text": [
            "Repository name: web-scraping\n",
            "Description: None\n",
            "Stars: 0\n",
            "faheema2701 (2 contributions)\n"
          ]
        }
      ]
    },
    {
      "cell_type": "code",
      "source": [
        "from github import Github\n",
        "import time\n",
        "\n",
        "# Authenticate with a personal access token\n",
        "g = Github(\"<your personal access token>\")\n",
        "\n",
        "# Get a specific repository\n",
        "repo = g.get_repo(\"joeyajames/Python\")\n",
        "\n",
        "# Print repository information\n",
        "print(f\"Repository name: {repo.name}\")\n",
        "print(f\"Description: {repo.description}\")\n",
        "print(f\"Stars: {repo.stargazers_count}\")\n",
        "\n",
        "# Function to check rate limit and wait if necessary\n",
        "def check_rate_limit():\n",
        "    rate_limit = g.get_rate_limit()  # Get rate limit info\n",
        "    remaining = rate_limit.core.remaining  # Check remaining requests in the core limit\n",
        "    reset_time = rate_limit.core.reset   # Check when the rate limit resets\n",
        "\n",
        "    if remaining == 0:\n",
        "        reset_timestamp = reset_time - time.time()  # Calculate time to reset\n",
        "        print(f\"Rate limit exceeded. Sleeping for {int(reset_timestamp)} seconds...\")\n",
        "        time.sleep(reset_timestamp + 10)  # Wait for rate limit reset\n",
        "    else:\n",
        "        print(f\"Remaining requests: {remaining}\")\n",
        "\n",
        "# Print contributors (pagination handled automatically)\n",
        "for contributor in repo.get_contributors():\n",
        "    check_rate_limit()  # Check rate before each request if needed\n",
        "    print(f\"{contributor.login} ({contributor.contributions} contributions)\")"
      ],
      "metadata": {
        "colab": {
          "base_uri": "https://localhost:8080/"
        },
        "id": "wrUfu3_WO93T",
        "outputId": "594d6420-3d18-42ef-b677-1c19db7c3f8f"
      },
      "execution_count": null,
      "outputs": [
        {
          "output_type": "stream",
          "name": "stdout",
          "text": [
            "Repository name: Python\n",
            "Description: Python code for YouTube videos.\n",
            "Stars: 1712\n",
            "Remaining requests: 4990\n",
            "joeyajames (138 contributions)\n",
            "Remaining requests: 4990\n",
            "Varun270 (3 contributions)\n",
            "Remaining requests: 4990\n",
            "aniketguptaa (2 contributions)\n",
            "Remaining requests: 4990\n",
            "Prajesh-Srivastava (2 contributions)\n",
            "Remaining requests: 4990\n",
            "thomas545 (2 contributions)\n",
            "Remaining requests: 4990\n",
            "abhi01274 (1 contributions)\n",
            "Remaining requests: 4990\n",
            "Aiswarya29 (1 contributions)\n",
            "Remaining requests: 4990\n",
            "Ashish0931 (1 contributions)\n",
            "Remaining requests: 4990\n",
            "ChelseyOSU (1 contributions)\n",
            "Remaining requests: 4990\n",
            "Ethan0507 (1 contributions)\n",
            "Remaining requests: 4990\n",
            "Govindrajewar (1 contributions)\n",
            "Remaining requests: 4990\n",
            "JayantDane123 (1 contributions)\n",
            "Remaining requests: 4990\n",
            "manthanguptaa (1 contributions)\n",
            "Remaining requests: 4990\n",
            "manankansara0 (1 contributions)\n",
            "Remaining requests: 4990\n",
            "Parmodsihag (1 contributions)\n",
            "Remaining requests: 4990\n",
            "ritik1234 (1 contributions)\n",
            "Remaining requests: 4990\n",
            "SaiSuvamPatnaik (1 contributions)\n",
            "Remaining requests: 4990\n",
            "cheekychiku (1 contributions)\n",
            "Remaining requests: 4990\n",
            "beingritik (1 contributions)\n",
            "Remaining requests: 4990\n",
            "carlos-o (1 contributions)\n",
            "Remaining requests: 4990\n",
            "gopesanjay772 (1 contributions)\n",
            "Remaining requests: 4990\n",
            "princerajputana6 (1 contributions)\n",
            "Remaining requests: 4990\n",
            "saksham044 (1 contributions)\n",
            "Remaining requests: 4990\n",
            "sid2631 (1 contributions)\n"
          ]
        }
      ]
    }
  ]
}